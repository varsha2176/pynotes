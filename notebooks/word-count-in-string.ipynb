{
 "cells": [
  {
   "cell_type": "markdown",
   "id": "c22f978c",
   "metadata": {},
   "source": [
    "Count the frequency of each word in a sentence."
   ]
  },
  {
   "cell_type": "code",
   "execution_count": 1,
   "id": "58c7d19e",
   "metadata": {
    "vscode": {
     "languageId": "plaintext"
    }
   },
   "outputs": [
    {
     "name": "stdin",
     "output_type": "stream",
     "text": [
      "Enter a sentence:  aruna varsha\n"
     ]
    },
    {
     "name": "stdout",
     "output_type": "stream",
     "text": [
      "Word Frequencies:\n",
      "aruna: 1\n",
      "varsha: 1\n"
     ]
    }
   ],
   "source": [
    "text = input(\"Enter a sentence: \").lower()\n",
    "words = text.split()\n",
    "word_count = {}\n",
    "\n",
    "for word in words:\n",
    "    word_count[word] = word_count.get(word, 0) + 1\n",
    "\n",
    "print(\"Word Frequencies:\")\n",
    "for word, count in word_count.items():\n",
    "    print(f\"{word}: {count}\")\n"
   ]
  },
  {
   "cell_type": "code",
   "execution_count": null,
   "id": "2f5c309b-9c78-4af3-ad3e-646e7b329f4e",
   "metadata": {},
   "outputs": [],
   "source": []
  }
 ],
 "metadata": {
  "kernelspec": {
   "display_name": "Python 3 (ipykernel)",
   "language": "python",
   "name": "python3"
  },
  "language_info": {
   "codemirror_mode": {
    "name": "ipython",
    "version": 3
   },
   "file_extension": ".py",
   "mimetype": "text/x-python",
   "name": "python",
   "nbconvert_exporter": "python",
   "pygments_lexer": "ipython3",
   "version": "3.11.0"
  }
 },
 "nbformat": 4,
 "nbformat_minor": 5
}
