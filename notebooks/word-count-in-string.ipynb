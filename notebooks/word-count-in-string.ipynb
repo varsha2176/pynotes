{
 "cells": [
  {
   "cell_type": "markdown",
   "id": "c22f978c",
   "metadata": {},
   "source": [
    "Count the frequency of each word in a sentence."
   ]
  },
  {
   "cell_type": "code",
   "execution_count": null,
   "id": "58c7d19e",
   "metadata": {
    "vscode": {
     "languageId": "plaintext"
    }
   },
   "outputs": [],
   "source": [
    "text = input(\"Enter a sentence: \").lower()\n",
    "words = text.split()\n",
    "word_count = {}\n",
    "\n",
    "for word in words:\n",
    "    word_count[word] = word_count.get(word, 0) + 1\n",
    "\n",
    "print(\"Word Frequencies:\")\n",
    "for word, count in word_count.items():\n",
    "    print(f\"{word}: {count}\")\n"
   ]
  }
 ],
 "metadata": {
  "language_info": {
   "name": "python"
  }
 },
 "nbformat": 4,
 "nbformat_minor": 5
}
