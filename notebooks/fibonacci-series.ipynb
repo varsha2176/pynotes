{
 "cells": [
  {
   "cell_type": "markdown",
   "id": "3a7522d5",
   "metadata": {},
   "source": [
    "This notebook prints the Fibonacci series up to N terms."
   ]
  },
  {
   "cell_type": "code",
   "execution_count": null,
   "id": "9a36a574",
   "metadata": {
    "vscode": {
     "languageId": "plaintext"
    }
   },
   "outputs": [],
   "source": [
    "n = int(input(\"How many terms? \"))\n",
    "a, b = 0, 1\n",
    "print(\"Fibonacci sequence:\")\n",
    "for _ in range(n):\n",
    "    print(a, end=' ')\n",
    "    a, b = b, a + b\n"
   ]
  }
 ],
 "metadata": {
  "language_info": {
   "name": "python"
  }
 },
 "nbformat": 4,
 "nbformat_minor": 5
}
