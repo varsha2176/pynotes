{
 "cells": [
  {
   "cell_type": "markdown",
   "id": "8f91ce69",
   "metadata": {},
   "source": [
    "A basic calculator that supports +, -, *, /"
   ]
  },
  {
   "cell_type": "code",
   "execution_count": 2,
   "id": "e48e1c99",
   "metadata": {
    "vscode": {
     "languageId": "plaintext"
    }
   },
   "outputs": [
    {
     "name": "stdin",
     "output_type": "stream",
     "text": [
      "Enter first number:  5\n",
      "Enter second number:  9\n",
      "Enter operator (+, -, *, /):  -\n"
     ]
    },
    {
     "name": "stdout",
     "output_type": "stream",
     "text": [
      "Result: -4.0\n"
     ]
    }
   ],
   "source": [
    "def calculator(a, b, op):\n",
    "    if op == '+':\n",
    "        return a + b\n",
    "    elif op == '-':\n",
    "        return a - b\n",
    "    elif op == '*':\n",
    "        return a * b\n",
    "    elif op == '/':\n",
    "        return a / b if b != 0 else \"Error: Division by zero\"\n",
    "    else:\n",
    "        return \"Invalid operator\"\n",
    "\n",
    "a = float(input(\"Enter first number: \"))\n",
    "b = float(input(\"Enter second number: \"))\n",
    "op = input(\"Enter operator (+, -, *, /): \")\n",
    "\n",
    "print(\"Result:\", calculator(a, b, op))\n"
   ]
  },
  {
   "cell_type": "code",
   "execution_count": null,
   "id": "87987063-9edd-4498-a6ef-af5f196e7e0a",
   "metadata": {},
   "outputs": [],
   "source": []
  }
 ],
 "metadata": {
  "kernelspec": {
   "display_name": "Python 3 (ipykernel)",
   "language": "python",
   "name": "python3"
  },
  "language_info": {
   "codemirror_mode": {
    "name": "ipython",
    "version": 3
   },
   "file_extension": ".py",
   "mimetype": "text/x-python",
   "name": "python",
   "nbconvert_exporter": "python",
   "pygments_lexer": "ipython3",
   "version": "3.11.0"
  }
 },
 "nbformat": 4,
 "nbformat_minor": 5
}
