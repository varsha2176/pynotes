{
 "cells": [
  {
   "cell_type": "markdown",
   "id": "36f67ed3",
   "metadata": {},
   "source": [
    "# Sample Notebook\n",
    "\n",
    "This is a test notebook for Pelican conversion.\n"
   ]
  },
  {
   "cell_type": "code",
   "execution_count": null,
   "id": "4440a515",
   "metadata": {},
   "outputs": [],
   "source": [
    "print(\"Hello from my Python Notes!\")\n"
   ]
  }
 ],
 "metadata": {
  "language_info": {
   "name": "python"
  }
 },
 "nbformat": 4,
 "nbformat_minor": 5
}
