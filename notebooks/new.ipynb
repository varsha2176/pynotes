{
 "cells": [
  {
   "cell_type": "markdown",
   "id": "36f67ed3",
   "metadata": {},
   "source": [
    "# Sample Notebook\n",
    "\n",
    "This is a test notebook for Pelican conversion.\n"
   ]
  },
  {
   "cell_type": "code",
   "execution_count": null,
   "id": "4440a515",
   "metadata": {},
   "outputs": [],
   "source": [
    "print(\"Hello from my Python Notes!\")\n"
   ]
  }
 ],
 "metadata": {
  "kernelspec": {
   "display_name": "Python 3 (ipykernel)",
   "language": "python",
   "name": "python3"
  },
  "language_info": {
   "codemirror_mode": {
    "name": "ipython",
    "version": 3
   },
   "file_extension": ".py",
   "mimetype": "text/x-python",
   "name": "python",
   "nbconvert_exporter": "python",
   "pygments_lexer": "ipython3",
   "version": "3.11.0"
  }
 },
 "nbformat": 4,
 "nbformat_minor": 5
}
